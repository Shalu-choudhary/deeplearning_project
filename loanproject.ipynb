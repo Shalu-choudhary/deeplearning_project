{
 "cells": [
  {
   "cell_type": "code",
   "execution_count": 4,
   "metadata": {},
   "outputs": [],
   "source": [
    "# it is a subest of machine learning which is work based on artifiial neural network(ANN). ann use to learn the hidden pattern and relationships in the dataset, required large amount of dataset(volume of dataset increase ,accuracy also increased while in  ML vlume high then its accuracy low)\n",
    "# in ANN there are three layers:-  input,hidden,output layer\n",
    "# input layer---> responsible for take i/p to the environment\n",
    "# output---> genrate output through input \n",
    "# hidden---> process the input. hidden layer can be [n] (multiple)\n",
    "# no. of neuron are equal to the no. of input / hidden/ ouput node (ex:->if there are 3 input nodes then no. of neuron is 3)\n",
    "# each and every input is pass to the each and every hidden node it is called fully connected\n",
    "# training of ANN is divide into two parts--> forward or backward\n",
    "# Z= x1*w1+x2*w2+x3*w3+b      { w---> weight,b--->bias initially both are random, z--> activation }"
   ]
  },
  {
   "cell_type": "code",
   "execution_count": 5,
   "metadata": {},
   "outputs": [],
   "source": [
    "import pandas as pd\n",
    "import numpy as np\n",
    "import seaborn as sns\n",
    "import matplotlib.pyplot as plt\n",
    "import tensorflow  as tf\n",
    "\n"
   ]
  },
  {
   "cell_type": "code",
   "execution_count": 6,
   "metadata": {},
   "outputs": [
    {
     "data": {
      "text/html": [
       "<div>\n",
       "<style scoped>\n",
       "    .dataframe tbody tr th:only-of-type {\n",
       "        vertical-align: middle;\n",
       "    }\n",
       "\n",
       "    .dataframe tbody tr th {\n",
       "        vertical-align: top;\n",
       "    }\n",
       "\n",
       "    .dataframe thead th {\n",
       "        text-align: right;\n",
       "    }\n",
       "</style>\n",
       "<table border=\"1\" class=\"dataframe\">\n",
       "  <thead>\n",
       "    <tr style=\"text-align: right;\">\n",
       "      <th></th>\n",
       "      <th>loan_id</th>\n",
       "      <th>no_of_dependents</th>\n",
       "      <th>education</th>\n",
       "      <th>self_employed</th>\n",
       "      <th>income_annum</th>\n",
       "      <th>loan_amount</th>\n",
       "      <th>loan_term</th>\n",
       "      <th>cibil_score</th>\n",
       "      <th>residential_assets_value</th>\n",
       "      <th>commercial_assets_value</th>\n",
       "      <th>luxury_assets_value</th>\n",
       "      <th>bank_asset_value</th>\n",
       "      <th>loan_status</th>\n",
       "    </tr>\n",
       "  </thead>\n",
       "  <tbody>\n",
       "    <tr>\n",
       "      <th>0</th>\n",
       "      <td>1</td>\n",
       "      <td>2</td>\n",
       "      <td>Graduate</td>\n",
       "      <td>No</td>\n",
       "      <td>9600000</td>\n",
       "      <td>29900000</td>\n",
       "      <td>12</td>\n",
       "      <td>778</td>\n",
       "      <td>2400000</td>\n",
       "      <td>17600000</td>\n",
       "      <td>22700000</td>\n",
       "      <td>8000000</td>\n",
       "      <td>Approved</td>\n",
       "    </tr>\n",
       "    <tr>\n",
       "      <th>1</th>\n",
       "      <td>2</td>\n",
       "      <td>0</td>\n",
       "      <td>Not Graduate</td>\n",
       "      <td>Yes</td>\n",
       "      <td>4100000</td>\n",
       "      <td>12200000</td>\n",
       "      <td>8</td>\n",
       "      <td>417</td>\n",
       "      <td>2700000</td>\n",
       "      <td>2200000</td>\n",
       "      <td>8800000</td>\n",
       "      <td>3300000</td>\n",
       "      <td>Rejected</td>\n",
       "    </tr>\n",
       "    <tr>\n",
       "      <th>2</th>\n",
       "      <td>3</td>\n",
       "      <td>3</td>\n",
       "      <td>Graduate</td>\n",
       "      <td>No</td>\n",
       "      <td>9100000</td>\n",
       "      <td>29700000</td>\n",
       "      <td>20</td>\n",
       "      <td>506</td>\n",
       "      <td>7100000</td>\n",
       "      <td>4500000</td>\n",
       "      <td>33300000</td>\n",
       "      <td>12800000</td>\n",
       "      <td>Rejected</td>\n",
       "    </tr>\n",
       "    <tr>\n",
       "      <th>3</th>\n",
       "      <td>4</td>\n",
       "      <td>3</td>\n",
       "      <td>Graduate</td>\n",
       "      <td>No</td>\n",
       "      <td>8200000</td>\n",
       "      <td>30700000</td>\n",
       "      <td>8</td>\n",
       "      <td>467</td>\n",
       "      <td>18200000</td>\n",
       "      <td>3300000</td>\n",
       "      <td>23300000</td>\n",
       "      <td>7900000</td>\n",
       "      <td>Rejected</td>\n",
       "    </tr>\n",
       "    <tr>\n",
       "      <th>4</th>\n",
       "      <td>5</td>\n",
       "      <td>5</td>\n",
       "      <td>Not Graduate</td>\n",
       "      <td>Yes</td>\n",
       "      <td>9800000</td>\n",
       "      <td>24200000</td>\n",
       "      <td>20</td>\n",
       "      <td>382</td>\n",
       "      <td>12400000</td>\n",
       "      <td>8200000</td>\n",
       "      <td>29400000</td>\n",
       "      <td>5000000</td>\n",
       "      <td>Rejected</td>\n",
       "    </tr>\n",
       "  </tbody>\n",
       "</table>\n",
       "</div>"
      ],
      "text/plain": [
       "   loan_id   no_of_dependents      education  self_employed   income_annum  \\\n",
       "0        1                  2       Graduate             No        9600000   \n",
       "1        2                  0   Not Graduate            Yes        4100000   \n",
       "2        3                  3       Graduate             No        9100000   \n",
       "3        4                  3       Graduate             No        8200000   \n",
       "4        5                  5   Not Graduate            Yes        9800000   \n",
       "\n",
       "    loan_amount   loan_term   cibil_score   residential_assets_value  \\\n",
       "0      29900000          12           778                    2400000   \n",
       "1      12200000           8           417                    2700000   \n",
       "2      29700000          20           506                    7100000   \n",
       "3      30700000           8           467                   18200000   \n",
       "4      24200000          20           382                   12400000   \n",
       "\n",
       "    commercial_assets_value   luxury_assets_value   bank_asset_value  \\\n",
       "0                  17600000              22700000            8000000   \n",
       "1                   2200000               8800000            3300000   \n",
       "2                   4500000              33300000           12800000   \n",
       "3                   3300000              23300000            7900000   \n",
       "4                   8200000              29400000            5000000   \n",
       "\n",
       "   loan_status  \n",
       "0     Approved  \n",
       "1     Rejected  \n",
       "2     Rejected  \n",
       "3     Rejected  \n",
       "4     Rejected  "
      ]
     },
     "execution_count": 6,
     "metadata": {},
     "output_type": "execute_result"
    }
   ],
   "source": [
    "df=pd.read_csv(\"https://raw.githubusercontent.com/upflairs-pvt-ltd/JECRC-20april2024/main/loan%20aproaval%20DL/loan_approval_dataset.csv\")\n",
    "df.head()"
   ]
  },
  {
   "cell_type": "code",
   "execution_count": 7,
   "metadata": {},
   "outputs": [
    {
     "name": "stdout",
     "output_type": "stream",
     "text": [
      "<class 'pandas.core.frame.DataFrame'>\n",
      "RangeIndex: 4269 entries, 0 to 4268\n",
      "Data columns (total 13 columns):\n",
      " #   Column                     Non-Null Count  Dtype \n",
      "---  ------                     --------------  ----- \n",
      " 0   loan_id                    4269 non-null   int64 \n",
      " 1    no_of_dependents          4269 non-null   int64 \n",
      " 2    education                 4269 non-null   object\n",
      " 3    self_employed             4269 non-null   object\n",
      " 4    income_annum              4269 non-null   int64 \n",
      " 5    loan_amount               4269 non-null   int64 \n",
      " 6    loan_term                 4269 non-null   int64 \n",
      " 7    cibil_score               4269 non-null   int64 \n",
      " 8    residential_assets_value  4269 non-null   int64 \n",
      " 9    commercial_assets_value   4269 non-null   int64 \n",
      " 10   luxury_assets_value       4269 non-null   int64 \n",
      " 11   bank_asset_value          4269 non-null   int64 \n",
      " 12   loan_status               4269 non-null   object\n",
      "dtypes: int64(10), object(3)\n",
      "memory usage: 433.7+ KB\n"
     ]
    }
   ],
   "source": [
    "df.info()"
   ]
  },
  {
   "cell_type": "code",
   "execution_count": 8,
   "metadata": {},
   "outputs": [
    {
     "data": {
      "text/plain": [
       "0"
      ]
     },
     "execution_count": 8,
     "metadata": {},
     "output_type": "execute_result"
    }
   ],
   "source": [
    "df.duplicated().sum()"
   ]
  },
  {
   "cell_type": "code",
   "execution_count": 9,
   "metadata": {},
   "outputs": [
    {
     "data": {
      "text/plain": [
       "loan_id                      0\n",
       " no_of_dependents            0\n",
       " education                   0\n",
       " self_employed               0\n",
       " income_annum                0\n",
       " loan_amount                 0\n",
       " loan_term                   0\n",
       " cibil_score                 0\n",
       " residential_assets_value    0\n",
       " commercial_assets_value     0\n",
       " luxury_assets_value         0\n",
       " bank_asset_value            0\n",
       " loan_status                 0\n",
       "dtype: int64"
      ]
     },
     "execution_count": 9,
     "metadata": {},
     "output_type": "execute_result"
    }
   ],
   "source": [
    "df.isnull().sum()"
   ]
  },
  {
   "cell_type": "code",
   "execution_count": 10,
   "metadata": {},
   "outputs": [
    {
     "data": {
      "text/plain": [
       " self_employed\n",
       "Yes    2150\n",
       "No     2119\n",
       "Name: count, dtype: int64"
      ]
     },
     "execution_count": 10,
     "metadata": {},
     "output_type": "execute_result"
    }
   ],
   "source": [
    "df[' self_employed'].value_counts()"
   ]
  },
  {
   "cell_type": "code",
   "execution_count": 11,
   "metadata": {},
   "outputs": [
    {
     "data": {
      "text/plain": [
       "Index(['loan_id', ' no_of_dependents', ' education', ' self_employed',\n",
       "       ' income_annum', ' loan_amount', ' loan_term', ' cibil_score',\n",
       "       ' residential_assets_value', ' commercial_assets_value',\n",
       "       ' luxury_assets_value', ' bank_asset_value', ' loan_status'],\n",
       "      dtype='object')"
      ]
     },
     "execution_count": 11,
     "metadata": {},
     "output_type": "execute_result"
    }
   ],
   "source": [
    "df.columns"
   ]
  },
  {
   "cell_type": "code",
   "execution_count": 12,
   "metadata": {},
   "outputs": [],
   "source": [
    "col_name=['loan_id', ' no_of_dependents', ' education', ' self_employed',\n",
    "       ' income_annum', ' loan_amount', ' loan_term', ' cibil_score',\n",
    "       ' residential_assets_value', ' commercial_assets_value',\n",
    "       ' luxury_assets_value', ' bank_asset_value', ' loan_status']"
   ]
  },
  {
   "cell_type": "code",
   "execution_count": 13,
   "metadata": {},
   "outputs": [],
   "source": [
    "# col=[]\n",
    "# for i in col_name:\n",
    "#     data=i.strip()\n",
    "#     col.append(data)\n",
    "# col\n",
    "\n",
    "df.columns=df.columns.str.strip()"
   ]
  },
  {
   "cell_type": "code",
   "execution_count": 14,
   "metadata": {},
   "outputs": [
    {
     "data": {
      "text/plain": [
       "Index([' Graduate', ' Not Graduate'], dtype='object', name='education')"
      ]
     },
     "execution_count": 14,
     "metadata": {},
     "output_type": "execute_result"
    }
   ],
   "source": [
    "df['education'].value_counts().keys()\n"
   ]
  },
  {
   "cell_type": "code",
   "execution_count": 15,
   "metadata": {},
   "outputs": [
    {
     "data": {
      "text/plain": [
       "Index([' Approved', ' Rejected'], dtype='object', name='loan_status')"
      ]
     },
     "execution_count": 15,
     "metadata": {},
     "output_type": "execute_result"
    }
   ],
   "source": [
    "df['loan_status'].value_counts().keys()"
   ]
  },
  {
   "cell_type": "code",
   "execution_count": 16,
   "metadata": {},
   "outputs": [],
   "source": [
    "cat_columns=['education','self_employed','loan_status']\n",
    "for i in cat_columns:\n",
    "    df[i]=df[i].str.strip()\n",
    "    \n",
    "    "
   ]
  },
  {
   "cell_type": "code",
   "execution_count": 17,
   "metadata": {},
   "outputs": [
    {
     "data": {
      "text/plain": [
       "Index(['Graduate', 'Not Graduate'], dtype='object', name='education')"
      ]
     },
     "execution_count": 17,
     "metadata": {},
     "output_type": "execute_result"
    }
   ],
   "source": [
    "df['education'].value_counts().keys()"
   ]
  },
  {
   "cell_type": "code",
   "execution_count": 18,
   "metadata": {},
   "outputs": [
    {
     "data": {
      "text/plain": [
       "Index(['Approved', 'Rejected'], dtype='object', name='loan_status')"
      ]
     },
     "execution_count": 18,
     "metadata": {},
     "output_type": "execute_result"
    }
   ],
   "source": [
    "df['loan_status'].value_counts().keys()"
   ]
  },
  {
   "cell_type": "code",
   "execution_count": 19,
   "metadata": {},
   "outputs": [
    {
     "data": {
      "text/html": [
       "<div>\n",
       "<style scoped>\n",
       "    .dataframe tbody tr th:only-of-type {\n",
       "        vertical-align: middle;\n",
       "    }\n",
       "\n",
       "    .dataframe tbody tr th {\n",
       "        vertical-align: top;\n",
       "    }\n",
       "\n",
       "    .dataframe thead th {\n",
       "        text-align: right;\n",
       "    }\n",
       "</style>\n",
       "<table border=\"1\" class=\"dataframe\">\n",
       "  <thead>\n",
       "    <tr style=\"text-align: right;\">\n",
       "      <th></th>\n",
       "      <th>loan_id</th>\n",
       "      <th>no_of_dependents</th>\n",
       "      <th>education</th>\n",
       "      <th>self_employed</th>\n",
       "      <th>income_annum</th>\n",
       "      <th>loan_amount</th>\n",
       "      <th>loan_term</th>\n",
       "      <th>cibil_score</th>\n",
       "      <th>residential_assets_value</th>\n",
       "      <th>commercial_assets_value</th>\n",
       "      <th>luxury_assets_value</th>\n",
       "      <th>bank_asset_value</th>\n",
       "      <th>loan_status</th>\n",
       "    </tr>\n",
       "  </thead>\n",
       "  <tbody>\n",
       "    <tr>\n",
       "      <th>0</th>\n",
       "      <td>1</td>\n",
       "      <td>2</td>\n",
       "      <td>Graduate</td>\n",
       "      <td>No</td>\n",
       "      <td>9600000</td>\n",
       "      <td>29900000</td>\n",
       "      <td>12</td>\n",
       "      <td>778</td>\n",
       "      <td>2400000</td>\n",
       "      <td>17600000</td>\n",
       "      <td>22700000</td>\n",
       "      <td>8000000</td>\n",
       "      <td>Approved</td>\n",
       "    </tr>\n",
       "    <tr>\n",
       "      <th>1</th>\n",
       "      <td>2</td>\n",
       "      <td>0</td>\n",
       "      <td>Not Graduate</td>\n",
       "      <td>Yes</td>\n",
       "      <td>4100000</td>\n",
       "      <td>12200000</td>\n",
       "      <td>8</td>\n",
       "      <td>417</td>\n",
       "      <td>2700000</td>\n",
       "      <td>2200000</td>\n",
       "      <td>8800000</td>\n",
       "      <td>3300000</td>\n",
       "      <td>Rejected</td>\n",
       "    </tr>\n",
       "    <tr>\n",
       "      <th>2</th>\n",
       "      <td>3</td>\n",
       "      <td>3</td>\n",
       "      <td>Graduate</td>\n",
       "      <td>No</td>\n",
       "      <td>9100000</td>\n",
       "      <td>29700000</td>\n",
       "      <td>20</td>\n",
       "      <td>506</td>\n",
       "      <td>7100000</td>\n",
       "      <td>4500000</td>\n",
       "      <td>33300000</td>\n",
       "      <td>12800000</td>\n",
       "      <td>Rejected</td>\n",
       "    </tr>\n",
       "    <tr>\n",
       "      <th>3</th>\n",
       "      <td>4</td>\n",
       "      <td>3</td>\n",
       "      <td>Graduate</td>\n",
       "      <td>No</td>\n",
       "      <td>8200000</td>\n",
       "      <td>30700000</td>\n",
       "      <td>8</td>\n",
       "      <td>467</td>\n",
       "      <td>18200000</td>\n",
       "      <td>3300000</td>\n",
       "      <td>23300000</td>\n",
       "      <td>7900000</td>\n",
       "      <td>Rejected</td>\n",
       "    </tr>\n",
       "    <tr>\n",
       "      <th>4</th>\n",
       "      <td>5</td>\n",
       "      <td>5</td>\n",
       "      <td>Not Graduate</td>\n",
       "      <td>Yes</td>\n",
       "      <td>9800000</td>\n",
       "      <td>24200000</td>\n",
       "      <td>20</td>\n",
       "      <td>382</td>\n",
       "      <td>12400000</td>\n",
       "      <td>8200000</td>\n",
       "      <td>29400000</td>\n",
       "      <td>5000000</td>\n",
       "      <td>Rejected</td>\n",
       "    </tr>\n",
       "  </tbody>\n",
       "</table>\n",
       "</div>"
      ],
      "text/plain": [
       "   loan_id  no_of_dependents     education self_employed  income_annum  \\\n",
       "0        1                 2      Graduate            No       9600000   \n",
       "1        2                 0  Not Graduate           Yes       4100000   \n",
       "2        3                 3      Graduate            No       9100000   \n",
       "3        4                 3      Graduate            No       8200000   \n",
       "4        5                 5  Not Graduate           Yes       9800000   \n",
       "\n",
       "   loan_amount  loan_term  cibil_score  residential_assets_value  \\\n",
       "0     29900000         12          778                   2400000   \n",
       "1     12200000          8          417                   2700000   \n",
       "2     29700000         20          506                   7100000   \n",
       "3     30700000          8          467                  18200000   \n",
       "4     24200000         20          382                  12400000   \n",
       "\n",
       "   commercial_assets_value  luxury_assets_value  bank_asset_value loan_status  \n",
       "0                 17600000             22700000           8000000    Approved  \n",
       "1                  2200000              8800000           3300000    Rejected  \n",
       "2                  4500000             33300000          12800000    Rejected  \n",
       "3                  3300000             23300000           7900000    Rejected  \n",
       "4                  8200000             29400000           5000000    Rejected  "
      ]
     },
     "execution_count": 19,
     "metadata": {},
     "output_type": "execute_result"
    }
   ],
   "source": [
    "df.head()"
   ]
  },
  {
   "cell_type": "code",
   "execution_count": 20,
   "metadata": {},
   "outputs": [],
   "source": [
    "clean_data=pd.get_dummies(df,drop_first=\"if_binary\").astype(int)    # onehot encoding and remove uneccasry columns"
   ]
  },
  {
   "cell_type": "code",
   "execution_count": 21,
   "metadata": {},
   "outputs": [
    {
     "data": {
      "text/html": [
       "<div>\n",
       "<style scoped>\n",
       "    .dataframe tbody tr th:only-of-type {\n",
       "        vertical-align: middle;\n",
       "    }\n",
       "\n",
       "    .dataframe tbody tr th {\n",
       "        vertical-align: top;\n",
       "    }\n",
       "\n",
       "    .dataframe thead th {\n",
       "        text-align: right;\n",
       "    }\n",
       "</style>\n",
       "<table border=\"1\" class=\"dataframe\">\n",
       "  <thead>\n",
       "    <tr style=\"text-align: right;\">\n",
       "      <th></th>\n",
       "      <th>loan_id</th>\n",
       "      <th>no_of_dependents</th>\n",
       "      <th>income_annum</th>\n",
       "      <th>loan_amount</th>\n",
       "      <th>loan_term</th>\n",
       "      <th>cibil_score</th>\n",
       "      <th>residential_assets_value</th>\n",
       "      <th>commercial_assets_value</th>\n",
       "      <th>luxury_assets_value</th>\n",
       "      <th>bank_asset_value</th>\n",
       "      <th>education_Not Graduate</th>\n",
       "      <th>self_employed_Yes</th>\n",
       "      <th>loan_status_Rejected</th>\n",
       "    </tr>\n",
       "  </thead>\n",
       "  <tbody>\n",
       "    <tr>\n",
       "      <th>0</th>\n",
       "      <td>1</td>\n",
       "      <td>2</td>\n",
       "      <td>9600000</td>\n",
       "      <td>29900000</td>\n",
       "      <td>12</td>\n",
       "      <td>778</td>\n",
       "      <td>2400000</td>\n",
       "      <td>17600000</td>\n",
       "      <td>22700000</td>\n",
       "      <td>8000000</td>\n",
       "      <td>0</td>\n",
       "      <td>0</td>\n",
       "      <td>0</td>\n",
       "    </tr>\n",
       "    <tr>\n",
       "      <th>1</th>\n",
       "      <td>2</td>\n",
       "      <td>0</td>\n",
       "      <td>4100000</td>\n",
       "      <td>12200000</td>\n",
       "      <td>8</td>\n",
       "      <td>417</td>\n",
       "      <td>2700000</td>\n",
       "      <td>2200000</td>\n",
       "      <td>8800000</td>\n",
       "      <td>3300000</td>\n",
       "      <td>1</td>\n",
       "      <td>1</td>\n",
       "      <td>1</td>\n",
       "    </tr>\n",
       "    <tr>\n",
       "      <th>2</th>\n",
       "      <td>3</td>\n",
       "      <td>3</td>\n",
       "      <td>9100000</td>\n",
       "      <td>29700000</td>\n",
       "      <td>20</td>\n",
       "      <td>506</td>\n",
       "      <td>7100000</td>\n",
       "      <td>4500000</td>\n",
       "      <td>33300000</td>\n",
       "      <td>12800000</td>\n",
       "      <td>0</td>\n",
       "      <td>0</td>\n",
       "      <td>1</td>\n",
       "    </tr>\n",
       "    <tr>\n",
       "      <th>3</th>\n",
       "      <td>4</td>\n",
       "      <td>3</td>\n",
       "      <td>8200000</td>\n",
       "      <td>30700000</td>\n",
       "      <td>8</td>\n",
       "      <td>467</td>\n",
       "      <td>18200000</td>\n",
       "      <td>3300000</td>\n",
       "      <td>23300000</td>\n",
       "      <td>7900000</td>\n",
       "      <td>0</td>\n",
       "      <td>0</td>\n",
       "      <td>1</td>\n",
       "    </tr>\n",
       "    <tr>\n",
       "      <th>4</th>\n",
       "      <td>5</td>\n",
       "      <td>5</td>\n",
       "      <td>9800000</td>\n",
       "      <td>24200000</td>\n",
       "      <td>20</td>\n",
       "      <td>382</td>\n",
       "      <td>12400000</td>\n",
       "      <td>8200000</td>\n",
       "      <td>29400000</td>\n",
       "      <td>5000000</td>\n",
       "      <td>1</td>\n",
       "      <td>1</td>\n",
       "      <td>1</td>\n",
       "    </tr>\n",
       "  </tbody>\n",
       "</table>\n",
       "</div>"
      ],
      "text/plain": [
       "   loan_id  no_of_dependents  income_annum  loan_amount  loan_term  \\\n",
       "0        1                 2       9600000     29900000         12   \n",
       "1        2                 0       4100000     12200000          8   \n",
       "2        3                 3       9100000     29700000         20   \n",
       "3        4                 3       8200000     30700000          8   \n",
       "4        5                 5       9800000     24200000         20   \n",
       "\n",
       "   cibil_score  residential_assets_value  commercial_assets_value  \\\n",
       "0          778                   2400000                 17600000   \n",
       "1          417                   2700000                  2200000   \n",
       "2          506                   7100000                  4500000   \n",
       "3          467                  18200000                  3300000   \n",
       "4          382                  12400000                  8200000   \n",
       "\n",
       "   luxury_assets_value  bank_asset_value  education_Not Graduate  \\\n",
       "0             22700000           8000000                       0   \n",
       "1              8800000           3300000                       1   \n",
       "2             33300000          12800000                       0   \n",
       "3             23300000           7900000                       0   \n",
       "4             29400000           5000000                       1   \n",
       "\n",
       "   self_employed_Yes  loan_status_Rejected  \n",
       "0                  0                     0  \n",
       "1                  1                     1  \n",
       "2                  0                     1  \n",
       "3                  0                     1  \n",
       "4                  1                     1  "
      ]
     },
     "execution_count": 21,
     "metadata": {},
     "output_type": "execute_result"
    }
   ],
   "source": [
    "clean_data.head()"
   ]
  },
  {
   "cell_type": "code",
   "execution_count": 22,
   "metadata": {},
   "outputs": [],
   "source": [
    "x=clean_data.drop('loan_status_Rejected',axis='columns')\n",
    "y=clean_data[['loan_status_Rejected']]"
   ]
  },
  {
   "cell_type": "code",
   "execution_count": 23,
   "metadata": {},
   "outputs": [
    {
     "data": {
      "text/html": [
       "<div>\n",
       "<style scoped>\n",
       "    .dataframe tbody tr th:only-of-type {\n",
       "        vertical-align: middle;\n",
       "    }\n",
       "\n",
       "    .dataframe tbody tr th {\n",
       "        vertical-align: top;\n",
       "    }\n",
       "\n",
       "    .dataframe thead th {\n",
       "        text-align: right;\n",
       "    }\n",
       "</style>\n",
       "<table border=\"1\" class=\"dataframe\">\n",
       "  <thead>\n",
       "    <tr style=\"text-align: right;\">\n",
       "      <th></th>\n",
       "      <th>loan_id</th>\n",
       "      <th>no_of_dependents</th>\n",
       "      <th>income_annum</th>\n",
       "      <th>loan_amount</th>\n",
       "      <th>loan_term</th>\n",
       "      <th>cibil_score</th>\n",
       "      <th>residential_assets_value</th>\n",
       "      <th>commercial_assets_value</th>\n",
       "      <th>luxury_assets_value</th>\n",
       "      <th>bank_asset_value</th>\n",
       "      <th>education_Not Graduate</th>\n",
       "      <th>self_employed_Yes</th>\n",
       "    </tr>\n",
       "  </thead>\n",
       "  <tbody>\n",
       "    <tr>\n",
       "      <th>0</th>\n",
       "      <td>1</td>\n",
       "      <td>2</td>\n",
       "      <td>9600000</td>\n",
       "      <td>29900000</td>\n",
       "      <td>12</td>\n",
       "      <td>778</td>\n",
       "      <td>2400000</td>\n",
       "      <td>17600000</td>\n",
       "      <td>22700000</td>\n",
       "      <td>8000000</td>\n",
       "      <td>0</td>\n",
       "      <td>0</td>\n",
       "    </tr>\n",
       "    <tr>\n",
       "      <th>1</th>\n",
       "      <td>2</td>\n",
       "      <td>0</td>\n",
       "      <td>4100000</td>\n",
       "      <td>12200000</td>\n",
       "      <td>8</td>\n",
       "      <td>417</td>\n",
       "      <td>2700000</td>\n",
       "      <td>2200000</td>\n",
       "      <td>8800000</td>\n",
       "      <td>3300000</td>\n",
       "      <td>1</td>\n",
       "      <td>1</td>\n",
       "    </tr>\n",
       "    <tr>\n",
       "      <th>2</th>\n",
       "      <td>3</td>\n",
       "      <td>3</td>\n",
       "      <td>9100000</td>\n",
       "      <td>29700000</td>\n",
       "      <td>20</td>\n",
       "      <td>506</td>\n",
       "      <td>7100000</td>\n",
       "      <td>4500000</td>\n",
       "      <td>33300000</td>\n",
       "      <td>12800000</td>\n",
       "      <td>0</td>\n",
       "      <td>0</td>\n",
       "    </tr>\n",
       "    <tr>\n",
       "      <th>3</th>\n",
       "      <td>4</td>\n",
       "      <td>3</td>\n",
       "      <td>8200000</td>\n",
       "      <td>30700000</td>\n",
       "      <td>8</td>\n",
       "      <td>467</td>\n",
       "      <td>18200000</td>\n",
       "      <td>3300000</td>\n",
       "      <td>23300000</td>\n",
       "      <td>7900000</td>\n",
       "      <td>0</td>\n",
       "      <td>0</td>\n",
       "    </tr>\n",
       "    <tr>\n",
       "      <th>4</th>\n",
       "      <td>5</td>\n",
       "      <td>5</td>\n",
       "      <td>9800000</td>\n",
       "      <td>24200000</td>\n",
       "      <td>20</td>\n",
       "      <td>382</td>\n",
       "      <td>12400000</td>\n",
       "      <td>8200000</td>\n",
       "      <td>29400000</td>\n",
       "      <td>5000000</td>\n",
       "      <td>1</td>\n",
       "      <td>1</td>\n",
       "    </tr>\n",
       "  </tbody>\n",
       "</table>\n",
       "</div>"
      ],
      "text/plain": [
       "   loan_id  no_of_dependents  income_annum  loan_amount  loan_term  \\\n",
       "0        1                 2       9600000     29900000         12   \n",
       "1        2                 0       4100000     12200000          8   \n",
       "2        3                 3       9100000     29700000         20   \n",
       "3        4                 3       8200000     30700000          8   \n",
       "4        5                 5       9800000     24200000         20   \n",
       "\n",
       "   cibil_score  residential_assets_value  commercial_assets_value  \\\n",
       "0          778                   2400000                 17600000   \n",
       "1          417                   2700000                  2200000   \n",
       "2          506                   7100000                  4500000   \n",
       "3          467                  18200000                  3300000   \n",
       "4          382                  12400000                  8200000   \n",
       "\n",
       "   luxury_assets_value  bank_asset_value  education_Not Graduate  \\\n",
       "0             22700000           8000000                       0   \n",
       "1              8800000           3300000                       1   \n",
       "2             33300000          12800000                       0   \n",
       "3             23300000           7900000                       0   \n",
       "4             29400000           5000000                       1   \n",
       "\n",
       "   self_employed_Yes  \n",
       "0                  0  \n",
       "1                  1  \n",
       "2                  0  \n",
       "3                  0  \n",
       "4                  1  "
      ]
     },
     "execution_count": 23,
     "metadata": {},
     "output_type": "execute_result"
    }
   ],
   "source": [
    "x.head()"
   ]
  },
  {
   "cell_type": "code",
   "execution_count": 24,
   "metadata": {},
   "outputs": [
    {
     "data": {
      "text/html": [
       "<div>\n",
       "<style scoped>\n",
       "    .dataframe tbody tr th:only-of-type {\n",
       "        vertical-align: middle;\n",
       "    }\n",
       "\n",
       "    .dataframe tbody tr th {\n",
       "        vertical-align: top;\n",
       "    }\n",
       "\n",
       "    .dataframe thead th {\n",
       "        text-align: right;\n",
       "    }\n",
       "</style>\n",
       "<table border=\"1\" class=\"dataframe\">\n",
       "  <thead>\n",
       "    <tr style=\"text-align: right;\">\n",
       "      <th></th>\n",
       "      <th>loan_status_Rejected</th>\n",
       "    </tr>\n",
       "  </thead>\n",
       "  <tbody>\n",
       "    <tr>\n",
       "      <th>0</th>\n",
       "      <td>0</td>\n",
       "    </tr>\n",
       "    <tr>\n",
       "      <th>1</th>\n",
       "      <td>1</td>\n",
       "    </tr>\n",
       "    <tr>\n",
       "      <th>2</th>\n",
       "      <td>1</td>\n",
       "    </tr>\n",
       "    <tr>\n",
       "      <th>3</th>\n",
       "      <td>1</td>\n",
       "    </tr>\n",
       "    <tr>\n",
       "      <th>4</th>\n",
       "      <td>1</td>\n",
       "    </tr>\n",
       "  </tbody>\n",
       "</table>\n",
       "</div>"
      ],
      "text/plain": [
       "   loan_status_Rejected\n",
       "0                     0\n",
       "1                     1\n",
       "2                     1\n",
       "3                     1\n",
       "4                     1"
      ]
     },
     "execution_count": 24,
     "metadata": {},
     "output_type": "execute_result"
    }
   ],
   "source": [
    "y.head()"
   ]
  },
  {
   "cell_type": "code",
   "execution_count": 25,
   "metadata": {},
   "outputs": [],
   "source": [
    "# for training ANN data we need to scalar data\n",
    "\n",
    "from sklearn.preprocessing import StandardScaler\n",
    "std=StandardScaler()\n",
    "x_transform=std.fit_transform(x)      # No outliers"
   ]
  },
  {
   "cell_type": "code",
   "execution_count": 26,
   "metadata": {},
   "outputs": [],
   "source": [
    "# train or test\n",
    "from sklearn.model_selection import train_test_split"
   ]
  },
  {
   "cell_type": "code",
   "execution_count": 27,
   "metadata": {},
   "outputs": [
    {
     "data": {
      "text/plain": [
       "(4269, 12)"
      ]
     },
     "execution_count": 27,
     "metadata": {},
     "output_type": "execute_result"
    }
   ],
   "source": [
    "x_transform.shape"
   ]
  },
  {
   "cell_type": "code",
   "execution_count": 28,
   "metadata": {},
   "outputs": [],
   "source": [
    "x_train,x_test,y_train,y_test= train_test_split(x_transform,y,test_size=0.15)"
   ]
  },
  {
   "cell_type": "code",
   "execution_count": 29,
   "metadata": {},
   "outputs": [],
   "source": [
    "from tensorflow.keras.layers import Dense   # hidden layer\n",
    "from tensorflow.keras.models import Sequential\n"
   ]
  },
  {
   "cell_type": "code",
   "execution_count": 30,
   "metadata": {},
   "outputs": [
    {
     "data": {
      "text/plain": [
       "12"
      ]
     },
     "execution_count": 30,
     "metadata": {},
     "output_type": "execute_result"
    }
   ],
   "source": [
    "x_train.shape[1]"
   ]
  },
  {
   "cell_type": "markdown",
   "metadata": {},
   "source": [
    "##### input_dim=>   no of neuron = no of x variable "
   ]
  },
  {
   "cell_type": "code",
   "execution_count": 31,
   "metadata": {},
   "outputs": [
    {
     "name": "stderr",
     "output_type": "stream",
     "text": [
      "c:\\Users\\hp\\AppData\\Local\\Programs\\Python\\Python312\\Lib\\site-packages\\keras\\src\\layers\\core\\dense.py:87: UserWarning: Do not pass an `input_shape`/`input_dim` argument to a layer. When using Sequential models, prefer using an `Input(shape)` object as the first layer in the model instead.\n",
      "  super().__init__(activity_regularizer=activity_regularizer, **kwargs)\n"
     ]
    }
   ],
   "source": [
    "ann_model=Sequential()\n",
    "\n",
    "ann_model.add(Dense(units=68,activation='relu',input_dim=x_train.shape[1]))\n",
    "ann_model.add(Dense(units=45,activation='relu'))  # no need of input because there are hidden layer is work as an input layer and activation used -- relu on hidden layer\n",
    "ann_model.add(Dense(units=28,activation='relu'))\n",
    "ann_model.add(Dense(units=1,activation='sigmoid'))  # for output layer and use single neuron (units=1). in last it genrate single output after taking no. of inputs. in this binaryclassification is used. or sigmoid is used bcoz there are binaryclassification problem statements\n",
    "\n",
    "# if problem statment is binary classification(yes/No) then nauron is single . if no. of classes more than two(multiclass classification) then neuron are no. of classes. ex-> classes are three then no of neuron are 3. \n",
    "# if there are multiclass classification in that problem statement we used softmax in activation function on output layer\n",
    "# if problem statement is linear(regression) "
   ]
  },
  {
   "cell_type": "code",
   "execution_count": 33,
   "metadata": {},
   "outputs": [
    {
     "data": {
      "text/html": [
       "<pre style=\"white-space:pre;overflow-x:auto;line-height:normal;font-family:Menlo,'DejaVu Sans Mono',consolas,'Courier New',monospace\"><span style=\"font-weight: bold\">Model: \"sequential\"</span>\n",
       "</pre>\n"
      ],
      "text/plain": [
       "\u001b[1mModel: \"sequential\"\u001b[0m\n"
      ]
     },
     "metadata": {},
     "output_type": "display_data"
    },
    {
     "data": {
      "text/html": [
       "<pre style=\"white-space:pre;overflow-x:auto;line-height:normal;font-family:Menlo,'DejaVu Sans Mono',consolas,'Courier New',monospace\">┏━━━━━━━━━━━━━━━━━━━━━━━━━━━━━━━━━┳━━━━━━━━━━━━━━━━━━━━━━━━┳━━━━━━━━━━━━━━━┓\n",
       "┃<span style=\"font-weight: bold\"> Layer (type)                    </span>┃<span style=\"font-weight: bold\"> Output Shape           </span>┃<span style=\"font-weight: bold\">       Param # </span>┃\n",
       "┡━━━━━━━━━━━━━━━━━━━━━━━━━━━━━━━━━╇━━━━━━━━━━━━━━━━━━━━━━━━╇━━━━━━━━━━━━━━━┩\n",
       "│ dense (<span style=\"color: #0087ff; text-decoration-color: #0087ff\">Dense</span>)                   │ (<span style=\"color: #00d7ff; text-decoration-color: #00d7ff\">None</span>, <span style=\"color: #00af00; text-decoration-color: #00af00\">68</span>)             │           <span style=\"color: #00af00; text-decoration-color: #00af00\">884</span> │\n",
       "├─────────────────────────────────┼────────────────────────┼───────────────┤\n",
       "│ dense_1 (<span style=\"color: #0087ff; text-decoration-color: #0087ff\">Dense</span>)                 │ (<span style=\"color: #00d7ff; text-decoration-color: #00d7ff\">None</span>, <span style=\"color: #00af00; text-decoration-color: #00af00\">45</span>)             │         <span style=\"color: #00af00; text-decoration-color: #00af00\">3,105</span> │\n",
       "├─────────────────────────────────┼────────────────────────┼───────────────┤\n",
       "│ dense_2 (<span style=\"color: #0087ff; text-decoration-color: #0087ff\">Dense</span>)                 │ (<span style=\"color: #00d7ff; text-decoration-color: #00d7ff\">None</span>, <span style=\"color: #00af00; text-decoration-color: #00af00\">28</span>)             │         <span style=\"color: #00af00; text-decoration-color: #00af00\">1,288</span> │\n",
       "├─────────────────────────────────┼────────────────────────┼───────────────┤\n",
       "│ dense_3 (<span style=\"color: #0087ff; text-decoration-color: #0087ff\">Dense</span>)                 │ (<span style=\"color: #00d7ff; text-decoration-color: #00d7ff\">None</span>, <span style=\"color: #00af00; text-decoration-color: #00af00\">1</span>)              │            <span style=\"color: #00af00; text-decoration-color: #00af00\">29</span> │\n",
       "└─────────────────────────────────┴────────────────────────┴───────────────┘\n",
       "</pre>\n"
      ],
      "text/plain": [
       "┏━━━━━━━━━━━━━━━━━━━━━━━━━━━━━━━━━┳━━━━━━━━━━━━━━━━━━━━━━━━┳━━━━━━━━━━━━━━━┓\n",
       "┃\u001b[1m \u001b[0m\u001b[1mLayer (type)                   \u001b[0m\u001b[1m \u001b[0m┃\u001b[1m \u001b[0m\u001b[1mOutput Shape          \u001b[0m\u001b[1m \u001b[0m┃\u001b[1m \u001b[0m\u001b[1m      Param #\u001b[0m\u001b[1m \u001b[0m┃\n",
       "┡━━━━━━━━━━━━━━━━━━━━━━━━━━━━━━━━━╇━━━━━━━━━━━━━━━━━━━━━━━━╇━━━━━━━━━━━━━━━┩\n",
       "│ dense (\u001b[38;5;33mDense\u001b[0m)                   │ (\u001b[38;5;45mNone\u001b[0m, \u001b[38;5;34m68\u001b[0m)             │           \u001b[38;5;34m884\u001b[0m │\n",
       "├─────────────────────────────────┼────────────────────────┼───────────────┤\n",
       "│ dense_1 (\u001b[38;5;33mDense\u001b[0m)                 │ (\u001b[38;5;45mNone\u001b[0m, \u001b[38;5;34m45\u001b[0m)             │         \u001b[38;5;34m3,105\u001b[0m │\n",
       "├─────────────────────────────────┼────────────────────────┼───────────────┤\n",
       "│ dense_2 (\u001b[38;5;33mDense\u001b[0m)                 │ (\u001b[38;5;45mNone\u001b[0m, \u001b[38;5;34m28\u001b[0m)             │         \u001b[38;5;34m1,288\u001b[0m │\n",
       "├─────────────────────────────────┼────────────────────────┼───────────────┤\n",
       "│ dense_3 (\u001b[38;5;33mDense\u001b[0m)                 │ (\u001b[38;5;45mNone\u001b[0m, \u001b[38;5;34m1\u001b[0m)              │            \u001b[38;5;34m29\u001b[0m │\n",
       "└─────────────────────────────────┴────────────────────────┴───────────────┘\n"
      ]
     },
     "metadata": {},
     "output_type": "display_data"
    },
    {
     "data": {
      "text/html": [
       "<pre style=\"white-space:pre;overflow-x:auto;line-height:normal;font-family:Menlo,'DejaVu Sans Mono',consolas,'Courier New',monospace\"><span style=\"font-weight: bold\"> Total params: </span><span style=\"color: #00af00; text-decoration-color: #00af00\">5,306</span> (20.73 KB)\n",
       "</pre>\n"
      ],
      "text/plain": [
       "\u001b[1m Total params: \u001b[0m\u001b[38;5;34m5,306\u001b[0m (20.73 KB)\n"
      ]
     },
     "metadata": {},
     "output_type": "display_data"
    },
    {
     "data": {
      "text/html": [
       "<pre style=\"white-space:pre;overflow-x:auto;line-height:normal;font-family:Menlo,'DejaVu Sans Mono',consolas,'Courier New',monospace\"><span style=\"font-weight: bold\"> Trainable params: </span><span style=\"color: #00af00; text-decoration-color: #00af00\">5,306</span> (20.73 KB)\n",
       "</pre>\n"
      ],
      "text/plain": [
       "\u001b[1m Trainable params: \u001b[0m\u001b[38;5;34m5,306\u001b[0m (20.73 KB)\n"
      ]
     },
     "metadata": {},
     "output_type": "display_data"
    },
    {
     "data": {
      "text/html": [
       "<pre style=\"white-space:pre;overflow-x:auto;line-height:normal;font-family:Menlo,'DejaVu Sans Mono',consolas,'Courier New',monospace\"><span style=\"font-weight: bold\"> Non-trainable params: </span><span style=\"color: #00af00; text-decoration-color: #00af00\">0</span> (0.00 B)\n",
       "</pre>\n"
      ],
      "text/plain": [
       "\u001b[1m Non-trainable params: \u001b[0m\u001b[38;5;34m0\u001b[0m (0.00 B)\n"
      ]
     },
     "metadata": {},
     "output_type": "display_data"
    }
   ],
   "source": [
    "ann_model.compile(loss=\"binary_crossentropy\",optimizer=\"adam\")\n",
    "ann_model.summary()\n",
    "\n",
    "# loss function:- can be more (classification or regression)\n",
    "\n",
    "# in classification there are loss func are :->  log loss, binary_crossentropy, catgorical_crossentropy, sparse_catgorical_crossentropy\n",
    "\n",
    "# in regression loss func are----->>>>>   MSE, MAE\n",
    "# logg loss or binary_cross both are same \n",
    "\n",
    "# if problem statement is binaryclassification then binary_crossentropy used or multiclassification then used catgoricalcrossentrop or sparse (dono me s ek)\n",
    "\n",
    "# for reduce the loss back propogation is used \n",
    "# optimizers reduce the weight and bias  \n",
    "# types of optimizers--> stoch,SGD, Adam, Adamax(these two are new optimizers)"
   ]
  },
  {
   "cell_type": "code",
   "execution_count": 35,
   "metadata": {},
   "outputs": [],
   "source": [
    "# for calculate score:-- use metrices=['accuracy']\n",
    "ann_model.compile(loss=\"binary_crossentropy\",optimizer=\"adam\",metrics=['accuracy'])"
   ]
  },
  {
   "cell_type": "code",
   "execution_count": 36,
   "metadata": {},
   "outputs": [
    {
     "name": "stdout",
     "output_type": "stream",
     "text": [
      "Epoch 1/10\n",
      "\u001b[1m114/114\u001b[0m \u001b[32m━━━━━━━━━━━━━━━━━━━━\u001b[0m\u001b[37m\u001b[0m \u001b[1m4s\u001b[0m 7ms/step - accuracy: 0.7186 - loss: 0.5361 - val_accuracy: 0.9111 - val_loss: 0.2502\n",
      "Epoch 2/10\n",
      "\u001b[1m114/114\u001b[0m \u001b[32m━━━━━━━━━━━━━━━━━━━━\u001b[0m\u001b[37m\u001b[0m \u001b[1m0s\u001b[0m 3ms/step - accuracy: 0.9209 - loss: 0.2229 - val_accuracy: 0.9095 - val_loss: 0.2158\n",
      "Epoch 3/10\n",
      "\u001b[1m114/114\u001b[0m \u001b[32m━━━━━━━━━━━━━━━━━━━━\u001b[0m\u001b[37m\u001b[0m \u001b[1m1s\u001b[0m 4ms/step - accuracy: 0.9290 - loss: 0.1869 - val_accuracy: 0.9236 - val_loss: 0.1621\n",
      "Epoch 4/10\n",
      "\u001b[1m114/114\u001b[0m \u001b[32m━━━━━━━━━━━━━━━━━━━━\u001b[0m\u001b[37m\u001b[0m \u001b[1m0s\u001b[0m 4ms/step - accuracy: 0.9392 - loss: 0.1500 - val_accuracy: 0.9345 - val_loss: 0.1469\n",
      "Epoch 5/10\n",
      "\u001b[1m114/114\u001b[0m \u001b[32m━━━━━━━━━━━━━━━━━━━━\u001b[0m\u001b[37m\u001b[0m \u001b[1m1s\u001b[0m 4ms/step - accuracy: 0.9558 - loss: 0.1192 - val_accuracy: 0.9392 - val_loss: 0.1349\n",
      "Epoch 6/10\n",
      "\u001b[1m114/114\u001b[0m \u001b[32m━━━━━━━━━━━━━━━━━━━━\u001b[0m\u001b[37m\u001b[0m \u001b[1m1s\u001b[0m 5ms/step - accuracy: 0.9615 - loss: 0.1104 - val_accuracy: 0.9438 - val_loss: 0.1346\n",
      "Epoch 7/10\n",
      "\u001b[1m114/114\u001b[0m \u001b[32m━━━━━━━━━━━━━━━━━━━━\u001b[0m\u001b[37m\u001b[0m \u001b[1m1s\u001b[0m 4ms/step - accuracy: 0.9647 - loss: 0.1036 - val_accuracy: 0.9501 - val_loss: 0.1196\n",
      "Epoch 8/10\n",
      "\u001b[1m114/114\u001b[0m \u001b[32m━━━━━━━━━━━━━━━━━━━━\u001b[0m\u001b[37m\u001b[0m \u001b[1m1s\u001b[0m 4ms/step - accuracy: 0.9701 - loss: 0.0901 - val_accuracy: 0.9548 - val_loss: 0.1112\n",
      "Epoch 9/10\n",
      "\u001b[1m114/114\u001b[0m \u001b[32m━━━━━━━━━━━━━━━━━━━━\u001b[0m\u001b[37m\u001b[0m \u001b[1m1s\u001b[0m 4ms/step - accuracy: 0.9685 - loss: 0.0824 - val_accuracy: 0.9501 - val_loss: 0.1185\n",
      "Epoch 10/10\n",
      "\u001b[1m114/114\u001b[0m \u001b[32m━━━━━━━━━━━━━━━━━━━━\u001b[0m\u001b[37m\u001b[0m \u001b[1m1s\u001b[0m 4ms/step - accuracy: 0.9750 - loss: 0.0908 - val_accuracy: 0.9485 - val_loss: 0.1184\n"
     ]
    }
   ],
   "source": [
    "#train the model\n",
    "history=ann_model.fit(x_train,y_train,epochs=10,validation_data=(x_test,y_test))\n",
    "# validatation data== test data(loss or accuracy calculate on test data as well as train data .  bydefault calculate on train data so we give validation data to check loss or accuracy on test data)"
   ]
  },
  {
   "cell_type": "code",
   "execution_count": 37,
   "metadata": {},
   "outputs": [
    {
     "data": {
      "text/html": [
       "<div>\n",
       "<style scoped>\n",
       "    .dataframe tbody tr th:only-of-type {\n",
       "        vertical-align: middle;\n",
       "    }\n",
       "\n",
       "    .dataframe tbody tr th {\n",
       "        vertical-align: top;\n",
       "    }\n",
       "\n",
       "    .dataframe thead th {\n",
       "        text-align: right;\n",
       "    }\n",
       "</style>\n",
       "<table border=\"1\" class=\"dataframe\">\n",
       "  <thead>\n",
       "    <tr style=\"text-align: right;\">\n",
       "      <th></th>\n",
       "      <th>accuracy</th>\n",
       "      <th>loss</th>\n",
       "      <th>val_accuracy</th>\n",
       "      <th>val_loss</th>\n",
       "    </tr>\n",
       "  </thead>\n",
       "  <tbody>\n",
       "    <tr>\n",
       "      <th>0</th>\n",
       "      <td>0.813947</td>\n",
       "      <td>0.411265</td>\n",
       "      <td>0.911076</td>\n",
       "      <td>0.250174</td>\n",
       "    </tr>\n",
       "    <tr>\n",
       "      <th>1</th>\n",
       "      <td>0.925028</td>\n",
       "      <td>0.207639</td>\n",
       "      <td>0.909516</td>\n",
       "      <td>0.215830</td>\n",
       "    </tr>\n",
       "    <tr>\n",
       "      <th>2</th>\n",
       "      <td>0.933021</td>\n",
       "      <td>0.174547</td>\n",
       "      <td>0.923557</td>\n",
       "      <td>0.162136</td>\n",
       "    </tr>\n",
       "    <tr>\n",
       "      <th>3</th>\n",
       "      <td>0.944598</td>\n",
       "      <td>0.150315</td>\n",
       "      <td>0.934477</td>\n",
       "      <td>0.146914</td>\n",
       "    </tr>\n",
       "    <tr>\n",
       "      <th>4</th>\n",
       "      <td>0.949835</td>\n",
       "      <td>0.133832</td>\n",
       "      <td>0.939158</td>\n",
       "      <td>0.134946</td>\n",
       "    </tr>\n",
       "    <tr>\n",
       "      <th>5</th>\n",
       "      <td>0.955899</td>\n",
       "      <td>0.120358</td>\n",
       "      <td>0.943838</td>\n",
       "      <td>0.134630</td>\n",
       "    </tr>\n",
       "    <tr>\n",
       "      <th>6</th>\n",
       "      <td>0.961963</td>\n",
       "      <td>0.108895</td>\n",
       "      <td>0.950078</td>\n",
       "      <td>0.119593</td>\n",
       "    </tr>\n",
       "    <tr>\n",
       "      <th>7</th>\n",
       "      <td>0.966373</td>\n",
       "      <td>0.098713</td>\n",
       "      <td>0.954758</td>\n",
       "      <td>0.111211</td>\n",
       "    </tr>\n",
       "    <tr>\n",
       "      <th>8</th>\n",
       "      <td>0.964994</td>\n",
       "      <td>0.095109</td>\n",
       "      <td>0.950078</td>\n",
       "      <td>0.118512</td>\n",
       "    </tr>\n",
       "    <tr>\n",
       "      <th>9</th>\n",
       "      <td>0.972988</td>\n",
       "      <td>0.083915</td>\n",
       "      <td>0.948518</td>\n",
       "      <td>0.118396</td>\n",
       "    </tr>\n",
       "  </tbody>\n",
       "</table>\n",
       "</div>"
      ],
      "text/plain": [
       "   accuracy      loss  val_accuracy  val_loss\n",
       "0  0.813947  0.411265      0.911076  0.250174\n",
       "1  0.925028  0.207639      0.909516  0.215830\n",
       "2  0.933021  0.174547      0.923557  0.162136\n",
       "3  0.944598  0.150315      0.934477  0.146914\n",
       "4  0.949835  0.133832      0.939158  0.134946\n",
       "5  0.955899  0.120358      0.943838  0.134630\n",
       "6  0.961963  0.108895      0.950078  0.119593\n",
       "7  0.966373  0.098713      0.954758  0.111211\n",
       "8  0.964994  0.095109      0.950078  0.118512\n",
       "9  0.972988  0.083915      0.948518  0.118396"
      ]
     },
     "execution_count": 37,
     "metadata": {},
     "output_type": "execute_result"
    }
   ],
   "source": [
    "pd.DataFrame(history.history)"
   ]
  },
  {
   "cell_type": "code",
   "execution_count": 38,
   "metadata": {},
   "outputs": [
    {
     "data": {
      "text/plain": [
       "<Axes: >"
      ]
     },
     "execution_count": 38,
     "metadata": {},
     "output_type": "execute_result"
    },
    {
     "data": {
      "image/png": "[encoded data removed]",
      "text/plain": [
       "<Figure size 640x480 with 1 Axes>"
      ]
     },
     "metadata": {},
     "output_type": "display_data"
    }
   ],
   "source": [
    "pd.DataFrame(history.history).plot()"
   ]
  },
  {
   "cell_type": "code",
   "execution_count": 39,
   "metadata": {},
   "outputs": [
    {
     "name": "stdout",
     "output_type": "stream",
     "text": [
      "\u001b[1m21/21\u001b[0m \u001b[32m━━━━━━━━━━━━━━━━━━━━\u001b[0m\u001b[37m\u001b[0m \u001b[1m0s\u001b[0m 7ms/step\n"
     ]
    },
    {
     "data": {
      "text/plain": [
       "array([[9.27385528e-08],\n",
       "       [8.28855276e-01],\n",
       "       [6.17203023e-03],\n",
       "       [3.83818269e-01],\n",
       "       [4.63909050e-03],\n",
       "       [9.33663189e-01],\n",
       "       [7.66864261e-08],\n",
       "       [9.58532929e-01],\n",
       "       [9.99999166e-01],\n",
       "       [5.69606309e-05],\n",
       "       [1.15529383e-02],\n",
       "       [6.54874086e-01],\n",
       "       [6.12246871e-01],\n",
       "       [9.98256147e-01],\n",
       "       [6.58754686e-08],\n",
       "       [8.49908233e-01],\n",
       "       [1.92584991e-01],\n",
       "       [9.56302404e-01],\n",
       "       [9.55709279e-01],\n",
       "       [2.15047738e-03],\n",
       "       [9.99927819e-01],\n",
       "       [9.99996305e-01],\n",
       "       [2.29589015e-04],\n",
       "       [9.99947190e-01],\n",
       "       [9.99563694e-01],\n",
       "       [3.36394482e-03],\n",
       "       [9.64494705e-01],\n",
       "       [9.56132951e-11],\n",
       "       [8.29964995e-01],\n",
       "       [5.65320488e-06],\n",
       "       [9.97009337e-01],\n",
       "       [9.99983370e-01],\n",
       "       [9.99904573e-01],\n",
       "       [3.28130409e-05],\n",
       "       [8.93504143e-01],\n",
       "       [2.83822149e-01],\n",
       "       [9.99999106e-01],\n",
       "       [9.53123331e-01],\n",
       "       [9.99971688e-01],\n",
       "       [1.64667368e-01],\n",
       "       [6.54086053e-01],\n",
       "       [7.47232512e-02],\n",
       "       [2.16702819e-02],\n",
       "       [3.30544978e-01],\n",
       "       [1.25168634e-04],\n",
       "       [2.71145366e-02],\n",
       "       [1.93496481e-01],\n",
       "       [1.31284687e-04],\n",
       "       [9.99999940e-01],\n",
       "       [9.99995291e-01],\n",
       "       [9.92241621e-01],\n",
       "       [8.11167192e-05],\n",
       "       [1.04855462e-04],\n",
       "       [9.94632542e-01],\n",
       "       [9.02516186e-01],\n",
       "       [7.91114235e-06],\n",
       "       [9.99992669e-01],\n",
       "       [2.80700013e-04],\n",
       "       [3.65135173e-04],\n",
       "       [9.94466944e-08],\n",
       "       [1.21989185e-09],\n",
       "       [3.02449305e-04],\n",
       "       [1.56837329e-03],\n",
       "       [3.36707756e-02],\n",
       "       [3.98273161e-03],\n",
       "       [1.48739340e-03],\n",
       "       [1.13950249e-04],\n",
       "       [4.74712282e-01],\n",
       "       [2.15729207e-01],\n",
       "       [4.55039481e-06],\n",
       "       [8.47466290e-01],\n",
       "       [9.99936819e-01],\n",
       "       [2.31101597e-03],\n",
       "       [9.74592473e-03],\n",
       "       [9.11986281e-05],\n",
       "       [9.99992311e-01],\n",
       "       [4.21466911e-03],\n",
       "       [2.57250413e-05],\n",
       "       [9.99565959e-01],\n",
       "       [9.98880804e-01],\n",
       "       [1.19111477e-03],\n",
       "       [2.01280704e-06],\n",
       "       [9.99999940e-01],\n",
       "       [2.43168179e-04],\n",
       "       [3.26317349e-05],\n",
       "       [9.99053955e-01],\n",
       "       [7.23667622e-01],\n",
       "       [2.45779492e-02],\n",
       "       [2.07325738e-05],\n",
       "       [1.32667935e-02],\n",
       "       [6.48266941e-05],\n",
       "       [9.96719599e-01],\n",
       "       [9.99999642e-01],\n",
       "       [3.60901393e-02],\n",
       "       [8.48494112e-01],\n",
       "       [9.80330884e-01],\n",
       "       [1.47665106e-03],\n",
       "       [8.20815265e-01],\n",
       "       [1.76643148e-01],\n",
       "       [9.98749375e-01],\n",
       "       [3.99159035e-03],\n",
       "       [9.99999404e-01],\n",
       "       [6.90100789e-01],\n",
       "       [9.98042881e-01],\n",
       "       [9.98963118e-01],\n",
       "       [9.92211044e-01],\n",
       "       [3.37593496e-01],\n",
       "       [9.99791384e-01],\n",
       "       [9.91854727e-01],\n",
       "       [5.60948956e-06],\n",
       "       [1.00000000e+00],\n",
       "       [4.61290963e-03],\n",
       "       [7.93053857e-07],\n",
       "       [7.98751398e-10],\n",
       "       [2.01754924e-03],\n",
       "       [1.00000000e+00],\n",
       "       [9.99993026e-01],\n",
       "       [9.73585069e-01],\n",
       "       [1.10803768e-02],\n",
       "       [5.28119691e-03],\n",
       "       [9.92779255e-01],\n",
       "       [9.66488151e-04],\n",
       "       [9.99955416e-01],\n",
       "       [9.99970019e-01],\n",
       "       [1.17172760e-06],\n",
       "       [2.34452239e-03],\n",
       "       [8.85173847e-07],\n",
       "       [9.99719679e-01],\n",
       "       [1.36395943e-06],\n",
       "       [9.43367958e-01],\n",
       "       [9.99999881e-01],\n",
       "       [1.94210759e-09],\n",
       "       [7.43713736e-06],\n",
       "       [1.12738344e-04],\n",
       "       [2.46136752e-03],\n",
       "       [7.68741872e-03],\n",
       "       [4.58369905e-04],\n",
       "       [1.21552555e-04],\n",
       "       [9.11501646e-01],\n",
       "       [9.99171555e-01],\n",
       "       [3.06212250e-02],\n",
       "       [4.39350400e-03],\n",
       "       [1.61518074e-05],\n",
       "       [1.65560414e-04],\n",
       "       [3.10023606e-01],\n",
       "       [7.02596953e-05],\n",
       "       [6.32497147e-02],\n",
       "       [1.07896476e-05],\n",
       "       [9.99991417e-01],\n",
       "       [5.55460930e-01],\n",
       "       [7.57400572e-01],\n",
       "       [2.34505013e-02],\n",
       "       [2.96500623e-01],\n",
       "       [9.99876559e-01],\n",
       "       [4.33298993e-07],\n",
       "       [5.50857339e-06],\n",
       "       [9.92098153e-01],\n",
       "       [4.21896093e-02],\n",
       "       [8.55282724e-06],\n",
       "       [1.81645112e-06],\n",
       "       [9.99937415e-01],\n",
       "       [7.80432820e-01],\n",
       "       [7.18415380e-01],\n",
       "       [1.00952968e-01],\n",
       "       [1.57490038e-04],\n",
       "       [5.53930923e-02],\n",
       "       [1.57022162e-03],\n",
       "       [1.75610930e-01],\n",
       "       [2.41510425e-05],\n",
       "       [4.69762176e-01],\n",
       "       [2.48402119e-01],\n",
       "       [5.90427546e-04],\n",
       "       [9.90298569e-01],\n",
       "       [9.99998271e-01],\n",
       "       [5.27424812e-01],\n",
       "       [1.31378034e-02],\n",
       "       [2.73236274e-05],\n",
       "       [3.09155621e-05],\n",
       "       [3.01444810e-03],\n",
       "       [9.99999881e-01],\n",
       "       [4.73331474e-03],\n",
       "       [1.89904973e-01],\n",
       "       [8.12321343e-03],\n",
       "       [2.23221943e-01],\n",
       "       [3.78721132e-04],\n",
       "       [4.67155420e-04],\n",
       "       [9.99983728e-01],\n",
       "       [2.85129179e-04],\n",
       "       [8.62513145e-04],\n",
       "       [9.99998748e-01],\n",
       "       [1.63007225e-08],\n",
       "       [2.38405280e-02],\n",
       "       [1.00288310e-06],\n",
       "       [9.99874532e-01],\n",
       "       [2.15901747e-01],\n",
       "       [2.56485939e-01],\n",
       "       [8.80697727e-01],\n",
       "       [4.26314510e-02],\n",
       "       [4.43734389e-05],\n",
       "       [1.50523992e-05],\n",
       "       [5.17681003e-01],\n",
       "       [9.94305730e-01],\n",
       "       [9.99955118e-01],\n",
       "       [9.64368810e-04],\n",
       "       [7.99995278e-11],\n",
       "       [6.95757481e-05],\n",
       "       [2.77621584e-05],\n",
       "       [9.99994814e-01],\n",
       "       [2.43647628e-06],\n",
       "       [9.99309301e-01],\n",
       "       [8.45579707e-05],\n",
       "       [9.58420753e-01],\n",
       "       [3.79157864e-04],\n",
       "       [9.22107399e-01],\n",
       "       [5.49170636e-07],\n",
       "       [7.79219158e-03],\n",
       "       [2.37958681e-10],\n",
       "       [1.81991607e-01],\n",
       "       [1.08235888e-03],\n",
       "       [9.98256803e-01],\n",
       "       [5.74616909e-01],\n",
       "       [9.99264479e-01],\n",
       "       [1.04200654e-02],\n",
       "       [6.59951620e-05],\n",
       "       [9.13411495e-04],\n",
       "       [4.55812142e-06],\n",
       "       [8.12645230e-05],\n",
       "       [5.92758954e-02],\n",
       "       [1.46471884e-03],\n",
       "       [2.58726800e-07],\n",
       "       [9.99988437e-01],\n",
       "       [9.99997973e-01],\n",
       "       [1.84686892e-02],\n",
       "       [4.32978896e-03],\n",
       "       [1.95627529e-02],\n",
       "       [9.80011106e-01],\n",
       "       [5.41379377e-05],\n",
       "       [1.03881712e-06],\n",
       "       [9.99981523e-01],\n",
       "       [7.00076759e-01],\n",
       "       [9.46935415e-01],\n",
       "       [2.22729389e-02],\n",
       "       [7.33282685e-01],\n",
       "       [9.99998987e-01],\n",
       "       [2.36589658e-05],\n",
       "       [5.78940089e-04],\n",
       "       [7.45016325e-04],\n",
       "       [9.99245882e-01],\n",
       "       [1.76084670e-03],\n",
       "       [1.25418894e-03],\n",
       "       [1.07226213e-02],\n",
       "       [8.48382188e-05],\n",
       "       [2.78521327e-07],\n",
       "       [9.47796524e-01],\n",
       "       [3.96590076e-05],\n",
       "       [7.77062356e-01],\n",
       "       [5.98567480e-04],\n",
       "       [9.99878228e-01],\n",
       "       [2.50562531e-04],\n",
       "       [9.82273579e-01],\n",
       "       [9.99933124e-01],\n",
       "       [4.07599418e-06],\n",
       "       [3.38307843e-02],\n",
       "       [9.97658730e-01],\n",
       "       [1.51294842e-03],\n",
       "       [8.85297311e-04],\n",
       "       [1.66734331e-04],\n",
       "       [9.93402779e-01],\n",
       "       [2.38918319e-01],\n",
       "       [6.04219167e-07],\n",
       "       [9.91438150e-01],\n",
       "       [8.42474474e-05],\n",
       "       [1.04944081e-06],\n",
       "       [8.56068194e-01],\n",
       "       [1.16330935e-02],\n",
       "       [1.21790962e-03],\n",
       "       [3.43392428e-04],\n",
       "       [9.99725699e-01],\n",
       "       [6.83581864e-04],\n",
       "       [5.54850651e-03],\n",
       "       [6.06000307e-04],\n",
       "       [9.86138046e-01],\n",
       "       [8.76531529e-04],\n",
       "       [3.85455351e-04],\n",
       "       [6.75580814e-05],\n",
       "       [6.69928417e-02],\n",
       "       [9.97902036e-01],\n",
       "       [9.99856889e-01],\n",
       "       [9.99507606e-01],\n",
       "       [4.56594443e-03],\n",
       "       [6.98215386e-04],\n",
       "       [2.88746762e-03],\n",
       "       [1.39278907e-03],\n",
       "       [9.99983430e-01],\n",
       "       [8.59109406e-08],\n",
       "       [6.77355289e-01],\n",
       "       [1.16385221e-02],\n",
       "       [1.84499368e-04],\n",
       "       [3.42089561e-06],\n",
       "       [9.99963462e-01],\n",
       "       [1.24119431e-01],\n",
       "       [9.99998152e-01],\n",
       "       [3.45177539e-02],\n",
       "       [9.82723892e-01],\n",
       "       [1.69880241e-02],\n",
       "       [9.21285510e-01],\n",
       "       [4.85323049e-04],\n",
       "       [9.94677067e-01],\n",
       "       [3.69850434e-02],\n",
       "       [6.64745016e-07],\n",
       "       [6.02528378e-02],\n",
       "       [3.72066755e-09],\n",
       "       [4.49883938e-02],\n",
       "       [5.28725870e-02],\n",
       "       [9.97409582e-01],\n",
       "       [1.42158521e-03],\n",
       "       [9.99972939e-01],\n",
       "       [9.93501902e-01],\n",
       "       [2.34011236e-06],\n",
       "       [8.69201904e-05],\n",
       "       [9.97023642e-01],\n",
       "       [1.36133913e-05],\n",
       "       [6.04842782e-01],\n",
       "       [9.99698579e-01],\n",
       "       [5.43951942e-03],\n",
       "       [4.20560548e-03],\n",
       "       [9.56586082e-05],\n",
       "       [9.99641180e-01],\n",
       "       [9.36401250e-07],\n",
       "       [3.59931844e-03],\n",
       "       [9.99772787e-01],\n",
       "       [1.52216281e-03],\n",
       "       [1.25684246e-05],\n",
       "       [2.20986141e-04],\n",
       "       [6.86221600e-01],\n",
       "       [9.99435186e-01],\n",
       "       [1.84927321e-05],\n",
       "       [3.23305116e-03],\n",
       "       [2.44658859e-03],\n",
       "       [3.30260731e-02],\n",
       "       [5.73940948e-03],\n",
       "       [1.57963075e-02],\n",
       "       [9.99659479e-01],\n",
       "       [2.03206923e-06],\n",
       "       [2.57633580e-03],\n",
       "       [9.99998271e-01],\n",
       "       [9.99790847e-01],\n",
       "       [9.99917746e-01],\n",
       "       [9.99998808e-01],\n",
       "       [9.88591128e-05],\n",
       "       [9.78733078e-02],\n",
       "       [1.20444235e-03],\n",
       "       [9.99754250e-01],\n",
       "       [9.99999225e-01],\n",
       "       [1.51747270e-02],\n",
       "       [1.72885761e-01],\n",
       "       [9.99999344e-01],\n",
       "       [9.98937726e-01],\n",
       "       [3.76864731e-01],\n",
       "       [6.77459013e-07],\n",
       "       [6.94594145e-01],\n",
       "       [3.74798685e-01],\n",
       "       [1.37251569e-03],\n",
       "       [3.75332929e-05],\n",
       "       [8.55453371e-04],\n",
       "       [9.57173228e-01],\n",
       "       [5.46915224e-04],\n",
       "       [6.40009297e-04],\n",
       "       [3.42750107e-04],\n",
       "       [9.99986827e-01],\n",
       "       [9.95843768e-01],\n",
       "       [1.35115610e-04],\n",
       "       [2.68588458e-08],\n",
       "       [9.99982476e-01],\n",
       "       [3.45065018e-05],\n",
       "       [6.51456125e-04],\n",
       "       [9.96155560e-01],\n",
       "       [9.99999940e-01],\n",
       "       [9.99664009e-01],\n",
       "       [7.61271492e-02],\n",
       "       [4.02819179e-02],\n",
       "       [7.81455040e-01],\n",
       "       [9.98894930e-01],\n",
       "       [1.88125614e-06],\n",
       "       [9.68352854e-01],\n",
       "       [6.32753881e-07],\n",
       "       [8.53424990e-06],\n",
       "       [6.09976269e-06],\n",
       "       [9.98167455e-01],\n",
       "       [9.85470951e-01],\n",
       "       [5.01879116e-09],\n",
       "       [9.33484728e-07],\n",
       "       [9.81692970e-01],\n",
       "       [1.84658404e-06],\n",
       "       [1.28573235e-02],\n",
       "       [8.59526506e-10],\n",
       "       [9.99999225e-01],\n",
       "       [9.99999762e-01],\n",
       "       [9.99999106e-01],\n",
       "       [8.14475820e-10],\n",
       "       [1.62147273e-07],\n",
       "       [9.93479669e-01],\n",
       "       [5.22103487e-03],\n",
       "       [3.84439630e-07],\n",
       "       [1.91760972e-01],\n",
       "       [9.99642968e-01],\n",
       "       [9.98418748e-01],\n",
       "       [9.99924242e-01],\n",
       "       [8.53280198e-06],\n",
       "       [9.99130130e-01],\n",
       "       [1.43799363e-02],\n",
       "       [4.32505985e-05],\n",
       "       [8.01409624e-06],\n",
       "       [9.99288321e-01],\n",
       "       [9.86902952e-01],\n",
       "       [9.37093496e-01],\n",
       "       [9.99840856e-01],\n",
       "       [5.90438365e-09],\n",
       "       [8.12984467e-01],\n",
       "       [3.66739859e-03],\n",
       "       [3.74250044e-03],\n",
       "       [7.17531025e-01],\n",
       "       [9.16148961e-01],\n",
       "       [1.71423778e-02],\n",
       "       [1.46575074e-03],\n",
       "       [6.54839880e-08],\n",
       "       [3.70979086e-02],\n",
       "       [5.05747879e-03],\n",
       "       [3.98926437e-01],\n",
       "       [3.09663420e-07],\n",
       "       [9.99999642e-01],\n",
       "       [1.00000000e+00],\n",
       "       [9.89872813e-01],\n",
       "       [5.21944799e-02],\n",
       "       [1.92327236e-04],\n",
       "       [8.28065753e-01],\n",
       "       [9.99704123e-01],\n",
       "       [1.12964344e-05],\n",
       "       [9.99987781e-01],\n",
       "       [9.99716997e-01],\n",
       "       [1.15286388e-01],\n",
       "       [9.99999523e-01],\n",
       "       [4.53865141e-01],\n",
       "       [5.30418940e-02],\n",
       "       [3.88493063e-04],\n",
       "       [9.91289973e-01],\n",
       "       [5.41904740e-07],\n",
       "       [9.99993801e-01],\n",
       "       [8.36678282e-06],\n",
       "       [1.27897695e-01],\n",
       "       [6.38699472e-01],\n",
       "       [8.52527618e-02],\n",
       "       [1.37554698e-05],\n",
       "       [2.83600874e-02],\n",
       "       [1.85772406e-05],\n",
       "       [3.97243768e-01],\n",
       "       [2.92720397e-05],\n",
       "       [4.14703536e-05],\n",
       "       [8.39921653e-01],\n",
       "       [9.69530046e-01],\n",
       "       [2.78476346e-03],\n",
       "       [5.03227384e-05],\n",
       "       [9.99999881e-01],\n",
       "       [3.36414610e-06],\n",
       "       [9.75797415e-01],\n",
       "       [2.67735212e-09],\n",
       "       [9.98759389e-01],\n",
       "       [9.99803066e-01],\n",
       "       [9.99998927e-01],\n",
       "       [1.34440325e-03],\n",
       "       [3.41253559e-04],\n",
       "       [9.99992967e-01],\n",
       "       [5.68594277e-01],\n",
       "       [9.98788416e-01],\n",
       "       [7.57852614e-10],\n",
       "       [6.54447183e-04],\n",
       "       [7.47674927e-02],\n",
       "       [9.70542260e-06],\n",
       "       [9.99999225e-01],\n",
       "       [3.21020816e-05],\n",
       "       [9.87467229e-01],\n",
       "       [9.99999821e-01],\n",
       "       [3.21634579e-04],\n",
       "       [6.05059028e-01],\n",
       "       [7.77289927e-01],\n",
       "       [6.40476197e-02],\n",
       "       [4.53615934e-03],\n",
       "       [9.99991596e-01],\n",
       "       [3.94864628e-06],\n",
       "       [5.22189617e-01],\n",
       "       [9.23607349e-01],\n",
       "       [9.99722779e-01],\n",
       "       [9.99999762e-01],\n",
       "       [9.96835649e-01],\n",
       "       [2.65685921e-05],\n",
       "       [1.53712928e-11],\n",
       "       [1.60330068e-02],\n",
       "       [9.58055630e-02],\n",
       "       [9.98170495e-01],\n",
       "       [9.94808316e-01],\n",
       "       [1.85765509e-06],\n",
       "       [4.67335646e-08],\n",
       "       [2.36580444e-08],\n",
       "       [1.55513482e-02],\n",
       "       [9.96248960e-01],\n",
       "       [1.37749827e-03],\n",
       "       [3.68489097e-08],\n",
       "       [3.00055399e-04],\n",
       "       [9.51749802e-01],\n",
       "       [1.80144252e-06],\n",
       "       [9.96937513e-01],\n",
       "       [1.67584352e-04],\n",
       "       [9.99561191e-01],\n",
       "       [9.61189100e-04],\n",
       "       [2.97877914e-03],\n",
       "       [9.99997854e-01],\n",
       "       [2.06870303e-04],\n",
       "       [3.30751836e-02],\n",
       "       [1.25684440e-02],\n",
       "       [1.06855277e-02],\n",
       "       [9.98757899e-01],\n",
       "       [9.98494089e-01],\n",
       "       [4.86406423e-02],\n",
       "       [9.61851120e-01],\n",
       "       [4.27679510e-07],\n",
       "       [7.56699443e-01],\n",
       "       [6.65068455e-06],\n",
       "       [3.68007980e-02],\n",
       "       [1.61045828e-04],\n",
       "       [9.89863038e-01],\n",
       "       [4.46770398e-04],\n",
       "       [2.60021724e-03],\n",
       "       [2.40494800e-03],\n",
       "       [5.22013295e-07],\n",
       "       [9.99666810e-01],\n",
       "       [9.99989152e-01],\n",
       "       [1.18222265e-02],\n",
       "       [3.62826628e-04],\n",
       "       [9.94315743e-01],\n",
       "       [9.99741673e-01],\n",
       "       [9.99506712e-01],\n",
       "       [9.99998569e-01],\n",
       "       [2.28081318e-03],\n",
       "       [5.51332593e-01],\n",
       "       [8.11417699e-01],\n",
       "       [4.68427762e-02],\n",
       "       [7.22993612e-01],\n",
       "       [1.68845034e-03],\n",
       "       [9.50249672e-01],\n",
       "       [3.81383270e-01],\n",
       "       [3.94003419e-03],\n",
       "       [1.45260037e-06],\n",
       "       [9.93848264e-01],\n",
       "       [9.92354274e-01],\n",
       "       [3.60006038e-06],\n",
       "       [7.47655307e-08],\n",
       "       [6.21453762e-01],\n",
       "       [1.65582240e-01],\n",
       "       [2.99855843e-02],\n",
       "       [9.95137811e-01],\n",
       "       [1.29921013e-04],\n",
       "       [4.35413654e-07],\n",
       "       [4.35228518e-04],\n",
       "       [2.48276910e-06],\n",
       "       [8.78501952e-01],\n",
       "       [8.85754526e-01],\n",
       "       [1.37475217e-05],\n",
       "       [8.40742607e-03],\n",
       "       [6.98544682e-06],\n",
       "       [9.99641657e-01],\n",
       "       [3.02935132e-05],\n",
       "       [3.37782491e-04],\n",
       "       [7.57493004e-02],\n",
       "       [7.55817528e-05],\n",
       "       [2.39673164e-03],\n",
       "       [1.31490215e-05],\n",
       "       [2.34768525e-01],\n",
       "       [4.62569960e-06],\n",
       "       [1.15955299e-06],\n",
       "       [4.18844545e-04],\n",
       "       [8.78657644e-08],\n",
       "       [1.03729479e-02],\n",
       "       [6.78539097e-01],\n",
       "       [9.99999583e-01],\n",
       "       [2.60706409e-04],\n",
       "       [9.98062015e-01],\n",
       "       [4.14531765e-04],\n",
       "       [8.87079895e-01],\n",
       "       [5.61339408e-02],\n",
       "       [9.99981940e-01],\n",
       "       [2.68535744e-02],\n",
       "       [9.90374982e-01],\n",
       "       [1.61339378e-03],\n",
       "       [4.65811580e-01],\n",
       "       [2.04202030e-02],\n",
       "       [9.36174572e-01],\n",
       "       [1.22246433e-07],\n",
       "       [9.93150651e-01],\n",
       "       [7.55312145e-01],\n",
       "       [7.28273159e-03],\n",
       "       [8.87652550e-06],\n",
       "       [8.68434191e-01],\n",
       "       [5.43989416e-04],\n",
       "       [9.99996722e-01],\n",
       "       [8.43708634e-01],\n",
       "       [4.21609059e-02],\n",
       "       [5.27236462e-01],\n",
       "       [6.23035610e-01],\n",
       "       [9.99998331e-01],\n",
       "       [2.20629886e-06],\n",
       "       [7.16418505e-01],\n",
       "       [9.77347195e-01],\n",
       "       [9.99838471e-01],\n",
       "       [7.94773223e-04],\n",
       "       [9.99990821e-01],\n",
       "       [4.06700650e-07],\n",
       "       [9.69203711e-01],\n",
       "       [9.89054799e-01],\n",
       "       [1.41288295e-01],\n",
       "       [9.96368945e-01],\n",
       "       [1.70462245e-05],\n",
       "       [1.19904405e-03],\n",
       "       [9.61355686e-01],\n",
       "       [1.59794145e-05],\n",
       "       [4.95925124e-05],\n",
       "       [9.55644548e-01],\n",
       "       [2.73489481e-04],\n",
       "       [1.53839439e-02],\n",
       "       [9.66363251e-01],\n",
       "       [1.22663192e-01],\n",
       "       [9.38320398e-01],\n",
       "       [7.48197688e-03],\n",
       "       [3.19272181e-06],\n",
       "       [9.90676999e-01],\n",
       "       [9.89911735e-01],\n",
       "       [1.20143570e-01],\n",
       "       [2.94535072e-03],\n",
       "       [7.36310729e-04],\n",
       "       [4.74703431e-01],\n",
       "       [3.45769331e-06],\n",
       "       [3.38117182e-02]], dtype=float32)"
      ]
     },
     "execution_count": 39,
     "metadata": {},
     "output_type": "execute_result"
    }
   ],
   "source": [
    "# prediction---\n",
    "pred=ann_model.predict(x_test)\n",
    "pred        # 2d array"
   ]
  },
  {
   "cell_type": "code",
   "execution_count": 40,
   "metadata": {},
   "outputs": [
    {
     "data": {
      "text/plain": [
       "(641, 12)"
      ]
     },
     "execution_count": 40,
     "metadata": {},
     "output_type": "execute_result"
    }
   ],
   "source": [
    "x_test.shape"
   ]
  },
  {
   "cell_type": "code",
   "execution_count": 41,
   "metadata": {},
   "outputs": [
    {
     "data": {
      "text/plain": [
       "(641, 1)"
      ]
     },
     "execution_count": 41,
     "metadata": {},
     "output_type": "execute_result"
    }
   ],
   "source": [
    "pred.shape          #(641,1)"
   ]
  },
  {
   "cell_type": "code",
   "execution_count": 42,
   "metadata": {},
   "outputs": [],
   "source": [
    "prediction=(pred>0.5).astype(int).ravel()    # probabilities \n",
    "# if probabilities>0.5:\n",
    "#     1\n",
    "# else:\n",
    "#     0"
   ]
  },
  {
   "cell_type": "code",
   "execution_count": 43,
   "metadata": {},
   "outputs": [
    {
     "data": {
      "text/plain": [
       "(641,)"
      ]
     },
     "execution_count": 43,
     "metadata": {},
     "output_type": "execute_result"
    }
   ],
   "source": [
    "prediction.shape"
   ]
  },
  {
   "cell_type": "code",
   "execution_count": 44,
   "metadata": {},
   "outputs": [],
   "source": [
    "y_test['prediction']=prediction"
   ]
  },
  {
   "cell_type": "code",
   "execution_count": 45,
   "metadata": {},
   "outputs": [
    {
     "data": {
      "text/html": [
       "<div>\n",
       "<style scoped>\n",
       "    .dataframe tbody tr th:only-of-type {\n",
       "        vertical-align: middle;\n",
       "    }\n",
       "\n",
       "    .dataframe tbody tr th {\n",
       "        vertical-align: top;\n",
       "    }\n",
       "\n",
       "    .dataframe thead th {\n",
       "        text-align: right;\n",
       "    }\n",
       "</style>\n",
       "<table border=\"1\" class=\"dataframe\">\n",
       "  <thead>\n",
       "    <tr style=\"text-align: right;\">\n",
       "      <th></th>\n",
       "      <th>loan_status_Rejected</th>\n",
       "      <th>prediction</th>\n",
       "    </tr>\n",
       "  </thead>\n",
       "  <tbody>\n",
       "    <tr>\n",
       "      <th>2178</th>\n",
       "      <td>0</td>\n",
       "      <td>0</td>\n",
       "    </tr>\n",
       "    <tr>\n",
       "      <th>3983</th>\n",
       "      <td>1</td>\n",
       "      <td>1</td>\n",
       "    </tr>\n",
       "    <tr>\n",
       "      <th>2191</th>\n",
       "      <td>0</td>\n",
       "      <td>0</td>\n",
       "    </tr>\n",
       "    <tr>\n",
       "      <th>1163</th>\n",
       "      <td>0</td>\n",
       "      <td>0</td>\n",
       "    </tr>\n",
       "    <tr>\n",
       "      <th>2228</th>\n",
       "      <td>0</td>\n",
       "      <td>0</td>\n",
       "    </tr>\n",
       "  </tbody>\n",
       "</table>\n",
       "</div>"
      ],
      "text/plain": [
       "      loan_status_Rejected  prediction\n",
       "2178                     0           0\n",
       "3983                     1           1\n",
       "2191                     0           0\n",
       "1163                     0           0\n",
       "2228                     0           0"
      ]
     },
     "execution_count": 45,
     "metadata": {},
     "output_type": "execute_result"
    }
   ],
   "source": [
    "y_test.head()"
   ]
  },
  {
   "cell_type": "code",
   "execution_count": null,
   "metadata": {},
   "outputs": [],
   "source": [
    "# create confusion matrices, classification report "
   ]
  },
  {
   "cell_type": "code",
   "execution_count": 48,
   "metadata": {},
   "outputs": [],
   "source": [
    "from sklearn.metrics import confusion_matrix,classification_report"
   ]
  },
  {
   "cell_type": "code",
   "execution_count": 50,
   "metadata": {},
   "outputs": [
    {
     "data": {
      "text/plain": [
       "array([[376,  24],\n",
       "       [  9, 232]], dtype=int64)"
      ]
     },
     "execution_count": 50,
     "metadata": {},
     "output_type": "execute_result"
    }
   ],
   "source": [
    "matrix=confusion_matrix(y_test['loan_status_Rejected'],y_test['prediction'])   # (actual, prediction)\n",
    "matrix"
   ]
  },
  {
   "cell_type": "code",
   "execution_count": 51,
   "metadata": {},
   "outputs": [
    {
     "name": "stdout",
     "output_type": "stream",
     "text": [
      "              precision    recall  f1-score   support\n",
      "\n",
      "           0       0.98      0.94      0.96       400\n",
      "           1       0.91      0.96      0.93       241\n",
      "\n",
      "    accuracy                           0.95       641\n",
      "   macro avg       0.94      0.95      0.95       641\n",
      "weighted avg       0.95      0.95      0.95       641\n",
      "\n"
     ]
    }
   ],
   "source": [
    "print(classification_report(y_test['loan_status_Rejected'],y_test['prediction']))"
   ]
  },
  {
   "cell_type": "code",
   "execution_count": 52,
   "metadata": {},
   "outputs": [
    {
     "name": "stderr",
     "output_type": "stream",
     "text": [
      "WARNING:absl:You are saving your model as an HDF5 file via `model.save()` or `keras.saving.save_model(model)`. This file format is considered legacy. We recommend using instead the native Keras format, e.g. `model.save('my_model.keras')` or `keras.saving.save_model(model, 'my_model.keras')`. \n"
     ]
    }
   ],
   "source": [
    "ann_model.save('loan_approval_model.h5')  # save--> built-in func h5 is extansion of tensorflow"
   ]
  },
  {
   "cell_type": "code",
   "execution_count": null,
   "metadata": {},
   "outputs": [],
   "source": []
  },
  {
   "cell_type": "code",
   "execution_count": null,
   "metadata": {},
   "outputs": [],
   "source": []
  }
 ],
 "metadata": {
  "kernelspec": {
   "display_name": "Python 3",
   "language": "python",
   "name": "python3"
  },
  "language_info": {
   "codemirror_mode": {
    "name": "ipython",
    "version": 3
   },
   "file_extension": ".py",
   "mimetype": "text/x-python",
   "name": "python",
   "nbconvert_exporter": "python",
   "pygments_lexer": "ipython3",
   "version": "3.12.4"
  }
 },
 "nbformat": 4,
 "nbformat_minor": 2
}
